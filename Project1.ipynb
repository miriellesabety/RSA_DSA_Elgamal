{
 "cells": [
  {
   "cell_type": "code",
   "execution_count": 16,
   "metadata": {
    "collapsed": false
   },
   "outputs": [
   ],
   "source": [
    "def fast2Power(a,n,m):\n",
    "    a1=a\n",
    "    b=1\n",
    "    while true:\n",
    "        if n%2==1:\n",
    "            b=(b*a1)%m\n",
    "        a1=(a1^2)%m\n",
    "        n=floor(n/2)\n",
    "        if n>0:\n",
    "            continue\n",
    "        else:\n",
    "            return b"
   ]
  },
  {
   "cell_type": "code",
   "execution_count": 17,
   "metadata": {
    "collapsed": false
   },
   "outputs": [
   ],
   "source": [
    "def millerRabinWitnessQ(a,n):\n",
    "    def factor(n):\n",
    "        k=0\n",
    "        m=n-1\n",
    "        while True:\n",
    "            if m%2==0:\n",
    "                k+=1\n",
    "                m=m//2\n",
    "            else:\n",
    "                return k,m\n",
    "                break\n",
    "    k,m=factor(n)\n",
    "    i=1\n",
    "    atom=fast2Power(a,m,n)\n",
    "    if atom==1%n or atom==-1%n:\n",
    "        return False\n",
    "    else:\n",
    "        while i<=(k-1):\n",
    "            atom=atom*atom\n",
    "            i+=1\n",
    "            if atom%n==-1%n:\n",
    "                return False\n",
    "                break\n",
    "            else:\n",
    "                continue\n",
    "        return True"
   ]
  },
  {
   "cell_type": "code",
   "execution_count": 18,
   "metadata": {
    "collapsed": false
   },
   "outputs": [
   ],
   "source": [
    "def probablePrimeQ(p):\n",
    "    if p<=20:\n",
    "        if p==2 or p==3 or p==5 or p==7 or p==11 or p==13 or p==17 or p==19:\n",
    "            return True\n",
    "        else:\n",
    "            return False\n",
    "    else:\n",
    "        j=0\n",
    "        randomNumbers=[]\n",
    "        while j<=20:\n",
    "            randomNumbers+=[ZZ.random_element(2,p-1)]\n",
    "            j+=1\n",
    "        i=0\n",
    "        while i<20:\n",
    "            if millerRabinWitnessQ(randomNumbers[i],p):\n",
    "                return False\n",
    "                break\n",
    "            else:\n",
    "                i+=1\n",
    "                continue\n",
    "        return True"
   ]
  },
  {
   "cell_type": "code",
   "execution_count": 20,
   "metadata": {
    "collapsed": false
   },
   "outputs": [
   ],
   "source": [
    "def findPrime(lBound,uBound):\n",
    "    while True:\n",
    "        p=ZZ.random_element(lBound,uBound)\n",
    "        if probablePrimeQ(p)==True:\n",
    "            return p\n",
    "            break\n",
    "        else:\n",
    "            continue"
   ]
  },
  {
   "cell_type": "code",
   "execution_count": 21,
   "metadata": {
    "collapsed": false
   },
   "outputs": [
   ],
   "source": [
    "def extendedGCD(a,b):\n",
    "    r0=a\n",
    "    r=b\n",
    "    s0=1\n",
    "    s=0\n",
    "    t0=0\n",
    "    t=1\n",
    "    while r>0:\n",
    "        R=r\n",
    "        S=s\n",
    "        T=t\n",
    "        q=r0//r\n",
    "        r=r0-q*r\n",
    "        s=s0-q*s\n",
    "        t=t0-q*t\n",
    "        r0=R\n",
    "        s0=S\n",
    "        t0=T\n",
    "    return [r0,s0,t0]\n",
    "\n",
    "def multInverse(a,p):\n",
    "    value=extendedGCD(a,p)\n",
    "    if value[0]!=1:\n",
    "        return \"gcd!=1\"\n",
    "    inverse=value[1]%p\n",
    "    return inverse"
   ]
  },
  {
   "cell_type": "code",
   "execution_count": 22,
   "metadata": {
    "collapsed": false
   },
   "outputs": [
   ],
   "source": [
    "def textToInt(s):\n",
    "    n=0\n",
    "    k=0\n",
    "    for i in s:\n",
    "        n=n+ord(i)*(256**k)\n",
    "        k=k+1\n",
    "    return n"
   ]
  },
  {
   "cell_type": "code",
   "execution_count": 13,
   "metadata": {
    "collapsed": false
   },
   "outputs": [
   ],
   "source": [
    "#Problem 1"
   ]
  },
  {
   "cell_type": "code",
   "execution_count": 11,
   "metadata": {
    "collapsed": false
   },
   "outputs": [
   ],
   "source": [
    "def generateRSAsig(b):\n",
    "    p=findPrime(2**(b-1),2**b)\n",
    "    q=findPrime(2**(b-1),2**b)\n",
    "    N=p*q\n",
    "    g=2\n",
    "    while g!=1:\n",
    "        e=abs(ZZ.random_element(2,(p-1)*(q-1)))\n",
    "        g,u,v=extendedGCD(e,(p-1)*(q-1))\n",
    "    d=multInverse(e,(p-1)*(q-1))\n",
    "    return N,e,d,p\n",
    "\n",
    "def signRSA(d,N,D):\n",
    "    S=fast2Power(D,d,N)\n",
    "    return S\n",
    "\n",
    "def verifyRSA(e,N,D,S):\n",
    "    V=fast2Power(S,e,N)\n",
    "    if V==D:\n",
    "        return True\n",
    "    else:\n",
    "        return False"
   ]
  },
  {
   "cell_type": "code",
   "execution_count": 16,
   "metadata": {
    "collapsed": false
   },
   "outputs": [
    {
     "data": {
      "text/plain": [
       "True"
      ]
     },
     "execution_count": 16,
     "metadata": {
     },
     "output_type": "execute_result"
    }
   ],
   "source": [
    "s=\"Hello\"\n",
    "D=textToInt(s)\n",
    "N,e,d,p=generateRSAsig(32)\n",
    "D=D%p\n",
    "S=signRSA(d,N,D)\n",
    "verifyRSA(e,N,D,S)"
   ]
  },
  {
   "cell_type": "code",
   "execution_count": 16,
   "metadata": {
    "collapsed": false
   },
   "outputs": [
    {
     "name": "stdout",
     "output_type": "stream",
     "text": [
      "verify RSA of message 1 is True and verify RSA of message 2 is False\n"
     ]
    }
   ],
   "source": [
    "#Problem 1d\n",
    "N=130061307469058444334004402292796242731647280125800090247633486533380128108842726634156135220831946866062223853257109353822442089185312431285028343253901842955482924713876313877737621253310870932200765667122928246115591798811915428630387159311357495853567739780862477866583118253350164591247456503684397765351\n",
    "e=126252465582573589507659177847321502584967222501075034962098562918998233259066684951230442065015196733021895414700508112965171068056096650212385807546551468742597753848421659478011029642783977591327799191749130935155037516875497978545018363638138945731475721594713124839281946199085048064346538412287791504933\n",
    "D1=5883429450303126502523286944121797157171922374824301856577702873435604004426188399294095433\n",
    "S1=80232406258495001086754853111241404102170176694552469758257184850052141840976731282453028932942953414242749423701964023477364737800183048006329749986376694310150326226302268908950445973796382715084663852344082254904216926842913930681014401376104989631658583435069991632254074606535665472195432502519417050914\n",
    "D2=10704694457764074582710627369280766701008076316818932411511691143041601772465017330616832970583786655030148323197232330936754249\n",
    "S2=48427586112047832349273437166154369912236147421946568908394263795396417634729782055035856182082477830795635583660498578300051763933063204792354529959770151501083835270802867979120626307004812519255714120696563743667269166318552545190429219649998613102406800988772725230071265369853949809984755973382905878650\n",
    "print(\"verify RSA of message 1 is\",verifyRSA(e,N,D1,S1),\"and verify RSA of message 2 is\",verifyRSA(e,N,D2,S2))"
   ]
  },
  {
   "cell_type": "code",
   "execution_count": 17,
   "metadata": {
    "collapsed": false
   },
   "outputs": [
   ],
   "source": [
    "#Problem 2"
   ]
  },
  {
   "cell_type": "code",
   "execution_count": 17,
   "metadata": {
    "collapsed": false
   },
   "outputs": [
   ],
   "source": [
    "def findSafePrime(lBound,uBound):\n",
    "    while True:\n",
    "        q=findPrime(lBound,uBound)\n",
    "        p=2*q+1\n",
    "        if probablePrimeQ(p)==True:\n",
    "            return p,q\n",
    "    return False\n",
    "\n",
    "def primativeRootOrderq(p,q):\n",
    "    while True:\n",
    "        g=ZZ.random_element(2,p)\n",
    "        g_new=fast2Power(g,q,p)\n",
    "        G=(g*g)%p\n",
    "        if G!=1 and g_new==1:\n",
    "            return g\n",
    "            break"
   ]
  },
  {
   "cell_type": "code",
   "execution_count": 18,
   "metadata": {
    "collapsed": false
   },
   "outputs": [
   ],
   "source": [
    "def generateElgamalSig(b):\n",
    "    p,q=findSafePrime(2**(b-1),2**b)\n",
    "    g=primativeRootOrderq(p,q)\n",
    "    a=ZZ.random_element(1,p-1)\n",
    "    A=fast2Power(g,a,p)\n",
    "    return A,a,p,g"
   ]
  },
  {
   "cell_type": "code",
   "execution_count": 19,
   "metadata": {
    "collapsed": false
   },
   "outputs": [
   ],
   "source": [
    "def signElgamal(a,p,g,D):\n",
    "    for i in range(1000):\n",
    "        k=ZZ.random_element(2,p-1)\n",
    "        value=extendedGCD(k,(p-1))\n",
    "        if value[0]==1:\n",
    "            break\n",
    "    S1=fast2Power(g,k,p)\n",
    "    k_inv=multInverse(k,(p-1))\n",
    "    S2=((D-(a*S1))*k_inv)%(p-1)\n",
    "    S=[S1,S2]\n",
    "    return S"
   ]
  },
  {
   "cell_type": "code",
   "execution_count": 20,
   "metadata": {
    "collapsed": false
   },
   "outputs": [
   ],
   "source": [
    "def verifyElgamal(A,p,g,D,S):\n",
    "    V1=fast2Power(g,D,p)\n",
    "    V2_1=fast2Power(A,S[0],p)\n",
    "    V2_2=fast2Power(S[0],S[1],p)\n",
    "    V2=(V2_1*V2_2)%p\n",
    "    if V2==V1:\n",
    "        return True\n",
    "    else:\n",
    "        return False"
   ]
  },
  {
   "cell_type": "code",
   "execution_count": 37,
   "metadata": {
    "collapsed": false
   },
   "outputs": [
    {
     "data": {
      "text/plain": [
       "True"
      ]
     },
     "execution_count": 37,
     "metadata": {
     },
     "output_type": "execute_result"
    }
   ],
   "source": [
    "#Problem 2c\n",
    "b=256\n",
    "s=\"Hello\"\n",
    "D=textToInt(s)\n",
    "A,a,p,g=generateElgamalSig(b)\n",
    "D=D%p\n",
    "S=signElgamal(a,p,g,D)\n",
    "verifyElgamal(A,p,g,D,S)"
   ]
  },
  {
   "cell_type": "code",
   "execution_count": 0,
   "metadata": {
    "collapsed": false
   },
   "outputs": [
   ],
   "source": [
    "#Problem 3"
   ]
  },
  {
   "cell_type": "code",
   "execution_count": 21,
   "metadata": {
    "collapsed": false
   },
   "outputs": [
    {
     "data": {
      "text/plain": [
       "[10410312]"
      ]
     },
     "execution_count": 21,
     "metadata": {
     },
     "output_type": "execute_result"
    }
   ],
   "source": [
    "p=12111563\n",
    "g=2747478\n",
    "A=1939076\n",
    "S1=6930133\n",
    "S2=2472399\n",
    "D=7562585\n",
    "Sp1=6930133\n",
    "Sp2=3625619\n",
    "Dp=2124565\n",
    "DMinusD=(D-Dp)%(p-1)\n",
    "gcd,u,v=extendedGCD(DMinusD,p-1)\n",
    "u=u%(p-1)\n",
    "S2MinusS2=(S2-Sp2)%(p-1)\n",
    "n=gcd/S2MinusS2\n",
    "k_inv=(u/n)%(p-1)\n",
    "k=multInverse(k_inv,(p-1))\n",
    "gcd1,u0,v0=extendedGCD(S1*(p-2),p-1)\n",
    "u0=u0%(p-1)\n",
    "n1=gcd1/(k*S2-D)\n",
    "a=(u0/n1)%(p-1)\n",
    "solutions_a=[]\n",
    "for i in range(0,gcd1):\n",
    "    a_new=a+(i*((p-1)/gcd1))\n",
    "    S2_test=((D-(a*S1))*k_inv)%(p-1)\n",
    "    if S2_test==S2:\n",
    "        solutions_a=solutions_a+[a_new]\n",
    "real_a=[]\n",
    "for j in solutions_a:\n",
    "    if fast2Power(g,j,p)==A:\n",
    "        real_a=real_a+[j]\n",
    "real_a"
   ]
  },
  {
   "cell_type": "code",
   "execution_count": 21,
   "metadata": {
    "collapsed": false
   },
   "outputs": [
   ],
   "source": [
    "#Problem 4"
   ]
  },
  {
   "cell_type": "code",
   "execution_count": 9,
   "metadata": {
    "collapsed": false
   },
   "outputs": [
   ],
   "source": [
    "def generateDSA(p,q,g):\n",
    "    a=ZZ.random_element(1,q-1)\n",
    "    A=fast2Power(g,a,p)\n",
    "    return a,A"
   ]
  },
  {
   "cell_type": "code",
   "execution_count": 10,
   "metadata": {
    "collapsed": false
   },
   "outputs": [
   ],
   "source": [
    "def signDSA(a,p,q,g,D):\n",
    "    D=D%q\n",
    "    k=ZZ.random_element(2,q-1)\n",
    "    S1=fast2Power(g,k,p)%q\n",
    "    k_inv=multInverse(k,q)\n",
    "    S2=((D+(a*S1))*(k_inv))%q\n",
    "    S=[S1,S2]\n",
    "    return S"
   ]
  },
  {
   "cell_type": "code",
   "execution_count": 11,
   "metadata": {
    "collapsed": false
   },
   "outputs": [
   ],
   "source": [
    "def verifyDSA(A,p,q,g,S,D):\n",
    "    S1=S[0]\n",
    "    S2_inv=multInverse(S[1],q)\n",
    "    V1=(D*S2_inv)%q\n",
    "    V2=(S1*S2_inv)%q\n",
    "    part1=fast2Power(g,V1,p)\n",
    "    part2=fast2Power(A,V2,p)\n",
    "    together=((part1*part2)%p)%q\n",
    "    if S1==together:\n",
    "        return True\n",
    "    return False"
   ]
  },
  {
   "cell_type": "code",
   "execution_count": 12,
   "metadata": {
    "collapsed": false
   },
   "outputs": [
   ],
   "source": [
    "p = 77435081224609491566246186553934541650038467378511547335936824568950781244967\n",
    "q = 16496047420474056593\n",
    "g = 52438402441471243928180899968147631418009321449216573273888371406197177211989\n",
    "a,A=generateDSA(p,q,g)"
   ]
  },
  {
   "cell_type": "code",
   "execution_count": 23,
   "metadata": {
    "collapsed": false
   },
   "outputs": [
   ],
   "source": [
    "s=\"I Mirielle Sabety hereby certify that I have done this project myself!\"\n",
    "M=textToInt(s)\n",
    "D=M%q\n",
    "S=signDSA(a,p,q,g,D)"
   ]
  },
  {
   "cell_type": "code",
   "execution_count": 26,
   "metadata": {
    "collapsed": false
   },
   "outputs": [
    {
     "data": {
      "text/plain": [
       "True"
      ]
     },
     "execution_count": 26,
     "metadata": {
     },
     "output_type": "execute_result"
    }
   ],
   "source": [
    "A = 31380059552535991678966671099787906271415318903296126966597061504248519302565\n",
    "\n",
    "D= 15646436510809054342\n",
    "\n",
    "S= [14164613027998957217, 11110514543362739051]\n",
    "\n",
    "verifyDSA(A,p,q,g,S,D)"
   ]
  },
  {
   "cell_type": "code",
   "execution_count": 27,
   "metadata": {
    "collapsed": false
   },
   "outputs": [
    {
     "data": {
      "text/plain": [
       "True"
      ]
     },
     "execution_count": 27,
     "metadata": {
     },
     "output_type": "execute_result"
    }
   ],
   "source": [
    "A = 67628155580267362620035736290502504343031525889566383933756302794056448839574\n",
    "\n",
    "S = (8905258521112489574, 2929271027945507306)\n",
    "\n",
    "D = 1943629857995279201\n",
    "\n",
    "verifyDSA(A,p,q,g,S,D)"
   ]
  },
  {
   "cell_type": "code",
   "execution_count": 0,
   "metadata": {
    "collapsed": false
   },
   "outputs": [
   ],
   "source": [
   ]
  }
 ],
 "metadata": {
  "kernelspec": {
   "display_name": "SageMath 9.6",
   "language": "sagemath",
   "metadata": {
    "cocalc": {
     "description": "Open-source mathematical software system",
     "priority": 1,
     "url": "https://www.sagemath.org/"
    }
   },
   "name": "sage-9.6",
   "resource_dir": "/ext/jupyter/kernels/sage-9.6"
  },
  "language_info": {
   "codemirror_mode": {
    "name": "ipython",
    "version": 3
   },
   "file_extension": ".py",
   "mimetype": "text/x-python",
   "name": "python",
   "nbconvert_exporter": "python",
   "pygments_lexer": "ipython3",
   "version": "3.10.3"
  }
 },
 "nbformat": 4,
 "nbformat_minor": 4
}